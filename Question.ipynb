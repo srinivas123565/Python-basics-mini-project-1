{
  "nbformat": 4,
  "nbformat_minor": 0,
  "metadata": {
    "colab": {
      "provenance": [],
      "authorship_tag": "ABX9TyNFk3QVPJn7TUvPymRjyVSK",
      "include_colab_link": true
    },
    "kernelspec": {
      "name": "python3",
      "display_name": "Python 3"
    },
    "language_info": {
      "name": "python"
    }
  },
  "cells": [
    {
      "cell_type": "markdown",
      "metadata": {
        "id": "view-in-github",
        "colab_type": "text"
      },
      "source": [
        "<a href=\"https://colab.research.google.com/github/srinivas123565/Python-basics-mini-project-1/blob/main/Question.ipynb\" target=\"_parent\"><img src=\"https://colab.research.google.com/assets/colab-badge.svg\" alt=\"Open In Colab\"/></a>"
      ]
    },
    {
      "cell_type": "code",
      "execution_count": null,
      "metadata": {
        "id": "HXmTlrHL8zNJ"
      },
      "outputs": [],
      "source": [
        "import random"
      ]
    },
    {
      "cell_type": "code",
      "source": [
        "import sys"
      ],
      "metadata": {
        "id": "f-YYGBwH9AZu"
      },
      "execution_count": null,
      "outputs": []
    },
    {
      "cell_type": "code",
      "source": [
        "question=\"\"\" Problem: Retail Transactions Data Analysis with Pandas\n",
        "\n",
        "You are provided with a CSV file named retail_transactions.csv that contains data from a retail chain. The file includes the following columns:\n",
        " •  TransactionID: A unique identifier for each transaction.\n",
        " •  TransactionDate: The date when the transaction occurred, in the format 'YYYY-MM-DD'.\n",
        " •  StoreID: Identifier for the store where the transaction took place.\n",
        " •  CustomerID: Unique identifier for the customer.\n",
        " •  ProductID: Identifier for the product sold.\n",
        " •  ProductCategory: The category of the product (e.g., Electronics, Apparel, Grocery, etc.).\n",
        " •  Quantity: Number of units sold.\n",
        " •  Price: Unit price of the product.\n",
        " •  PaymentType: Payment method used (e.g., Cash, Credit, Debit).\n",
        " •  Discount: Discount applied (as a percentage, e.g., 10 for 10% discount). This column may have missing values if no discount was given.\n",
        "\n",
        "Your task is to perform the following analysis using Pandas only (do not use NumPy functions):\n",
        " 1. Data Loading & Parsing:\n",
        " •  Import the necessary libraries.\n",
        " •  Read the CSV file into a Pandas DataFrame.\n",
        " •  Ensure that the TransactionDate column is parsed as a datetime object.\n",
        " 2. Initial Data Exploration:\n",
        " •  Display the first 15 rows of the DataFrame.\n",
        " •  Print a summary (using methods like .info() and .describe()) to understand the structure and data types.\n",
        " 3. Data Cleaning:\n",
        " •  Check for missing values in each column and print the count per column.\n",
        " •  For the columns Quantity, Price, and Discount, ensure they are in the correct numerical format.\n",
        " •  If Discount has missing values, assume a discount of 0% and fill those missing entries accordingly.\n",
        " 4. Feature Engineering:\n",
        " •  Create a new column called NetPrice which applies the discount to the price. Use the formula:\n",
        "\n",
        "\\text{NetPrice} = \\text{Price} \\times \\left(1 - \\frac{\\text{Discount}}{100}\\right)\n",
        "\n",
        " •  Create another new column called TotalSale computed as:\n",
        "\n",
        "\\text{TotalSale} = \\text{Quantity} \\times \\text{NetPrice}\n",
        "\n",
        " 5. Data Filtering:\n",
        " •  Filter the DataFrame to include only those transactions where TotalSale is greater than or equal to 20.\n",
        " •  Save this filtered data into a new DataFrame for further analysis.\n",
        " 6. Data Type Conversion:\n",
        " •  Convert the PaymentType column to a categorical data type.\n",
        " 7. Grouping and Aggregation:\n",
        " •  a. Group the filtered DataFrame by ProductCategory and compute:\n",
        " •  The total Quantity sold for each category.\n",
        " •  The total TotalSale for each category.\n",
        " •  b. Sort the grouped result in descending order based on the total TotalSale.\n",
        " •  c. Identify and print the top 3 product categories with the highest total sales.\n",
        " 8. Multi-Level Grouping:\n",
        " •  Group the filtered data by both StoreID and ProductCategory.\n",
        " •  For each group, calculate the average TotalSale per transaction.\n",
        " 9. Store-Level Insights:\n",
        " •  For each store (StoreID), determine which product category has the highest average TotalSale.\n",
        " •  Prepare and print a summary DataFrame that includes:\n",
        " •  StoreID\n",
        " •  The corresponding top ProductCategory\n",
        " •  The calculated average TotalSale for that category\n",
        " 10.    Documentation:\n",
        " •  Ensure your code is well-commented, explaining each major step in the analysis.\n",
        "\n",
        "Instructions:\n",
        "Write the complete Python code using Pandas to perform the tasks described above. Your solution should be self-contained and avoid using any NumPy functions. Make sure that your code handles potential issues such as missing values and incorrect data types, and that it clearly demonstrates your ability to perform grouping and aggregation operations in Pandas.\n",
        "\"\"\""
      ],
      "metadata": {
        "id": "xPtD7GVg9EWy"
      },
      "execution_count": null,
      "outputs": []
    },
    {
      "cell_type": "code",
      "source": [
        "type(question)"
      ],
      "metadata": {
        "colab": {
          "base_uri": "https://localhost:8080/"
        },
        "id": "r9UxWEDC9X2h",
        "outputId": "a173ab4a-989a-4118-9c16-33181255738f"
      },
      "execution_count": null,
      "outputs": [
        {
          "output_type": "execute_result",
          "data": {
            "text/plain": [
              "str"
            ]
          },
          "metadata": {},
          "execution_count": 25
        }
      ]
    },
    {
      "cell_type": "code",
      "source": [
        "for _ in question:\n",
        "    print(_,end='')"
      ],
      "metadata": {
        "colab": {
          "base_uri": "https://localhost:8080/"
        },
        "collapsed": true,
        "id": "OQQ0Vfv8AxsX",
        "outputId": "4fa2db3d-8afb-4da5-ae87-5626231b155a"
      },
      "execution_count": null,
      "outputs": [
        {
          "output_type": "stream",
          "name": "stdout",
          "text": [
            " Problem: Retail Transactions Data Analysis with Pandas\n",
            "\n",
            "You are provided with a CSV file named retail_transactions.csv that contains data from a retail chain. The file includes the following columns:\n",
            " •  TransactionID: A unique identifier for each transaction.\n",
            " •  TransactionDate: The date when the transaction occurred, in the format 'YYYY-MM-DD'.\n",
            " •  StoreID: Identifier for the store where the transaction took place.\n",
            " •  CustomerID: Unique identifier for the customer.\n",
            " •  ProductID: Identifier for the product sold.\n",
            " •  ProductCategory: The category of the product (e.g., Electronics, Apparel, Grocery, etc.).\n",
            " •  Quantity: Number of units sold.\n",
            " •  Price: Unit price of the product.\n",
            " •  PaymentType: Payment method used (e.g., Cash, Credit, Debit).\n",
            " •  Discount: Discount applied (as a percentage, e.g., 10 for 10% discount). This column may have missing values if no discount was given.\n",
            "\n",
            "Your task is to perform the following analysis using Pandas only (do not use NumPy functions):\n",
            " 1. Data Loading & Parsing:\n",
            " •  Import the necessary libraries.\n",
            " •  Read the CSV file into a Pandas DataFrame.\n",
            " •  Ensure that the TransactionDate column is parsed as a datetime object.\n",
            " 2. Initial Data Exploration:\n",
            " •  Display the first 15 rows of the DataFrame.\n",
            " •  Print a summary (using methods like .info() and .describe()) to understand the structure and data types.\n",
            " 3. Data Cleaning:\n",
            " •  Check for missing values in each column and print the count per column.\n",
            " •  For the columns Quantity, Price, and Discount, ensure they are in the correct numerical format.\n",
            " •  If Discount has missing values, assume a discount of 0% and fill those missing entries accordingly.\n",
            " 4. Feature Engineering:\n",
            " •  Create a new column called NetPrice which applies the discount to the price. Use the formula:\n",
            "\n",
            "ight)\n",
            "\n",
            " •  Create another new column called TotalSale computed as:\n",
            "\n",
            "\text{TotalSale} = \text{Quantity} \times \text{NetPrice}\n",
            "\n",
            " 5. Data Filtering:\n",
            " •  Filter the DataFrame to include only those transactions where TotalSale is greater than or equal to 20.\n",
            " •  Save this filtered data into a new DataFrame for further analysis.\n",
            " 6. Data Type Conversion:\n",
            " •  Convert the PaymentType column to a categorical data type.\n",
            " 7. Grouping and Aggregation:\n",
            " •  a. Group the filtered DataFrame by ProductCategory and compute:\n",
            " •  The total Quantity sold for each category.\n",
            " •  The total TotalSale for each category.\n",
            " •  b. Sort the grouped result in descending order based on the total TotalSale.\n",
            " •  c. Identify and print the top 3 product categories with the highest total sales.\n",
            " 8. Multi-Level Grouping:\n",
            " •  Group the filtered data by both StoreID and ProductCategory.\n",
            " •  For each group, calculate the average TotalSale per transaction.\n",
            " 9. Store-Level Insights:\n",
            " •  For each store (StoreID), determine which product category has the highest average TotalSale.\n",
            " •  Prepare and print a summary DataFrame that includes:\n",
            " •  StoreID\n",
            " •  The corresponding top ProductCategory\n",
            " •  The calculated average TotalSale for that category\n",
            " 10.    Documentation:\n",
            " •  Ensure your code is well-commented, explaining each major step in the analysis.\n",
            "\n",
            "Instructions:\n",
            "Write the complete Python code using Pandas to perform the tasks described above. Your solution should be self-contained and avoid using any NumPy functions. Make sure that your code handles potential issues such as missing values and incorrect data types, and that it clearly demonstrates your ability to perform grouping and aggregation operations in Pandas.\n"
          ]
        }
      ]
    },
    {
      "cell_type": "code",
      "source": [
        "import time\n",
        "import sys"
      ],
      "metadata": {
        "id": "RKc8SdUtBUB_"
      },
      "execution_count": null,
      "outputs": []
    },
    {
      "cell_type": "code",
      "source": [
        "for _ in question:\n",
        "  sys.stdout.write(_)\n",
        "  sys.stdout.flush()\n",
        "  time.sleep(0.002)"
      ],
      "metadata": {
        "id": "3oRemgci9uUS",
        "colab": {
          "base_uri": "https://localhost:8080/"
        },
        "collapsed": true,
        "outputId": "45cc214a-65bb-4012-e62c-f312b6c3a5e5"
      },
      "execution_count": null,
      "outputs": [
        {
          "output_type": "stream",
          "name": "stdout",
          "text": [
            " Problem: Retail Transactions Data Analysis with Pandas\n",
            "\n",
            "You are provided with a CSV file named retail_transactions.csv that contains data from a retail chain. The file includes the following columns:\n",
            " •  TransactionID: A unique identifier for each transaction.\n",
            " •  TransactionDate: The date when the transaction occurred, in the format 'YYYY-MM-DD'.\n",
            " •  StoreID: Identifier for the store where the transaction took place.\n",
            " •  CustomerID: Unique identifier for the customer.\n",
            " •  ProductID: Identifier for the product sold.\n",
            " •  ProductCategory: The category of the product (e.g., Electronics, Apparel, Grocery, etc.).\n",
            " •  Quantity: Number of units sold.\n",
            " •  Price: Unit price of the product.\n",
            " •  PaymentType: Payment method used (e.g., Cash, Credit, Debit).\n",
            " •  Discount: Discount applied (as a percentage, e.g., 10 for 10% discount). This column may have missing values if no discount was given.\n",
            "\n",
            "Your task is to perform the following analysis using Pandas only (do not use NumPy functions):\n",
            " 1. Data Loading & Parsing:\n",
            " •  Import the necessary libraries.\n",
            " •  Read the CSV file into a Pandas DataFrame.\n",
            " •  Ensure that the TransactionDate column is parsed as a datetime object.\n",
            " 2. Initial Data Exploration:\n",
            " •  Display the first 15 rows of the DataFrame.\n",
            " •  Print a summary (using methods like .info() and .describe()) to understand the structure and data types.\n",
            " 3. Data Cleaning:\n",
            " •  Check for missing values in each column and print the count per column.\n",
            " •  For the columns Quantity, Price, and Discount, ensure they are in the correct numerical format.\n",
            " •  If Discount has missing values, assume a discount of 0% and fill those missing entries accordingly.\n",
            " 4. Feature Engineering:\n",
            " •  Create a new column called NetPrice which applies the discount to the price. Use the formula:\n",
            "\n",
            "ight)\n",
            "\n",
            " •  Create another new column called TotalSale computed as:\n",
            "\n",
            "\text{TotalSale} = \text{Quantity} \times \text{NetPrice}\n",
            "\n",
            " 5. Data Filtering:\n",
            " •  Filter the DataFrame to include only those transactions where TotalSale is greater than or equal to 20.\n",
            " •  Save this filtered data into a new DataFrame for further analysis.\n",
            " 6. Data Type Conversion:\n",
            " •  Convert the PaymentType column to a categorical data type.\n",
            " 7. Grouping and Aggregation:\n",
            " •  a. Group the filtered DataFrame by ProductCategory and compute:\n",
            " •  The total Quantity sold for each category.\n",
            " •  The total TotalSale for each category.\n",
            " •  b. Sort the grouped result in descending order based on the total TotalSale.\n",
            " •  c. Identify and print the top 3 product categories with the highest total sales.\n",
            " 8. Multi-Level Grouping:\n",
            " •  Group the filtered data by both StoreID and ProductCategory.\n",
            " •  For each group, calculate the average TotalSale per transaction.\n",
            " 9. Store-Level Insights:\n",
            " •  For each store (StoreID), determine which product category has the highest average TotalSale.\n",
            " •  Prepare and print a summary DataFrame that includes:\n",
            " •  StoreID\n",
            " •  The corresponding top ProductCategory\n",
            " •  The calculated average TotalSale for that category\n",
            " 10.    Documentation:\n",
            " •  Ensure your code is well-commented, explaining each major step in the analysis.\n",
            "\n",
            "Instructions:\n",
            "Write the complete Python code using Pandas to perform the tasks described above. Your solution should be self-contained and avoid using any NumPy functions. Make sure that your code handles potential issues such as missing values and incorrect data types, and that it clearly demonstrates your ability to perform grouping and aggregation operations in Pandas.\n"
          ]
        }
      ]
    },
    {
      "cell_type": "code",
      "source": [
        "x = 10\n",
        "y = 20\n",
        "sum = x + y\n",
        "result=f\"the sum is {sum}\"\n",
        "\n",
        "for _ in result:\n",
        "   sys.stdout.write(_)\n",
        "   sys.stdout.flush()\n",
        "   time.sleep(0.005)"
      ],
      "metadata": {
        "colab": {
          "base_uri": "https://localhost:8080/"
        },
        "id": "9I3244B_B-iA",
        "outputId": "32cde5ec-7c10-41e5-abd8-53dda974385d"
      },
      "execution_count": null,
      "outputs": [
        {
          "output_type": "stream",
          "name": "stdout",
          "text": [
            "the sum is 30"
          ]
        }
      ]
    },
    {
      "cell_type": "code",
      "source": [
        "def getAIOPLOOK(Result):\n",
        "    for _ in Result:\n",
        "        sys.stdout.write(_)\n",
        "        sys.stdout.flush()\n",
        "        time.sleep(0.005)"
      ],
      "metadata": {
        "id": "WBS8jbzUNEfV"
      },
      "execution_count": 40,
      "outputs": []
    },
    {
      "cell_type": "code",
      "source": [
        "x = 10\n",
        "Y = 20\n",
        "Sum=x+y"
      ],
      "metadata": {
        "id": "8PsqAqZmOEhm"
      },
      "execution_count": 41,
      "outputs": []
    },
    {
      "cell_type": "code",
      "source": [
        "ẞtext=f'The sum of{x} and {y} is {sum}'"
      ],
      "metadata": {
        "id": "NfYCXAm9OaAd"
      },
      "execution_count": 42,
      "outputs": []
    },
    {
      "cell_type": "code",
      "source": [
        "getAIOPLOOK (text)"
      ],
      "metadata": {
        "colab": {
          "base_uri": "https://localhost:8080/"
        },
        "id": "85JtpNsdPHVa",
        "outputId": "2016240f-51dc-4b6d-a5c9-a8dcca86c308"
      },
      "execution_count": 43,
      "outputs": [
        {
          "output_type": "stream",
          "name": "stdout",
          "text": [
            "The sum of10 and 20 is 30"
          ]
        }
      ]
    }
  ]
}